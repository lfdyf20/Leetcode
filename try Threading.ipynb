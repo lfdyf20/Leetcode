{
 "cells": [
  {
   "cell_type": "code",
   "execution_count": 30,
   "metadata": {
    "collapsed": true
   },
   "outputs": [],
   "source": [
    "import threading\n",
    "import time\n",
    "import random\n",
    "import logging"
   ]
  },
  {
   "cell_type": "code",
   "execution_count": 21,
   "metadata": {
    "collapsed": false
   },
   "outputs": [
    {
     "name": "stdout",
     "output_type": "stream",
     "text": [
      "print thread: 0\n",
      "print thread: 1\n",
      "print thread: 2\n",
      "print thread: 3\n",
      "print thread: 4\n"
     ]
    }
   ],
   "source": [
    "def printThread( id ):\n",
    "    print( \"print thread: {id}\".format( id = id ) )\n",
    "    return\n",
    "\n",
    "threads = []\n",
    "for i in range(5):\n",
    "    t = threading.Thread( target=printThread, args=(i,) )\n",
    "    threads.append( t )\n",
    "    t.start()"
   ]
  },
  {
   "cell_type": "code",
   "execution_count": 29,
   "metadata": {
    "collapsed": false
   },
   "outputs": [
    {
     "name": "stdout",
     "output_type": "stream",
     "text": [
      "Thread hello start.\n",
      "Thread world start.\n",
      "Thread phil start.\n",
      "Thread world end ( 1 ).\n",
      "Thread hello end ( 2 ).\n",
      "Thread phil end ( 2 ).\n"
     ]
    }
   ],
   "source": [
    "def printCurrentThreadName():\n",
    "    print( \"Thread {name} start.\".format( name=threading.currentThread().getName() ))\n",
    "    sleepTime = random.randint(1,3)\n",
    "    time.sleep( sleepTime )\n",
    "    print( \"Thread {name} end ( {sleepTime} ).\".format( \n",
    "        name=threading.currentThread().getName(),\n",
    "        sleepTime = sleepTime))\n",
    "\n",
    "for name in [\"hello\", \"world\", \"phil\"]:\n",
    "    newThread = threading.Thread( name=name, target=printCurrentThreadName )\n",
    "    newThread.start()"
   ]
  },
  {
   "cell_type": "code",
   "execution_count": 34,
   "metadata": {
    "collapsed": false
   },
   "outputs": [
    {
     "name": "stderr",
     "output_type": "stream",
     "text": [
      "[DEBUG] (hello     ) starting\n",
      "[DEBUG] (world     ) starting\n",
      "[DEBUG] (phil      ) starting\n",
      "[DEBUG] (hello     ) ending\n",
      "[DEBUG] (phil      ) ending\n",
      "[DEBUG] (world     ) ending\n"
     ]
    }
   ],
   "source": [
    "logging.basicConfig(level=logging.DEBUG,\n",
    "                    format='[%(levelname)s] %(relativeCreated)6d (%(threadName)-10s) %(message)s')\n",
    "\n",
    "def logCurrentThreadName():\n",
    "    logging.debug( 'starting' )\n",
    "#     sleepTime = random.randint(1,3)\n",
    "    time.sleep( random.randint(1,3) )\n",
    "    logging.debug( 'ending' )\n",
    "\n",
    "for name in [\"hello\", \"world\", \"phil\"]:\n",
    "    newThread = threading.Thread( name=name, target=logCurrentThreadName )\n",
    "    newThread.start()"
   ]
  },
  {
   "cell_type": "markdown",
   "metadata": {},
   "source": [
    "- it seems that daemon not work on jupyter ?"
   ]
  },
  {
   "cell_type": "code",
   "execution_count": 39,
   "metadata": {
    "collapsed": false
   },
   "outputs": [
    {
     "name": "stderr",
     "output_type": "stream",
     "text": [
      "[DEBUG] (daemon    ) Starting\n",
      "[DEBUG] (non_daemon) Starting\n",
      "[DEBUG] (non_daemon) Exiting\n",
      "[DEBUG] (daemon    ) Exiting\n"
     ]
    }
   ],
   "source": [
    "logging.basicConfig(level=logging.DEBUG,\n",
    "                    format='(%(threadName)-10s) %(message)s',)\n",
    "\n",
    "def daemon():\n",
    "    logging.debug( \"Starting\" )\n",
    "    time.sleep(5)\n",
    "    logging.debug( \"Exiting\" )\n",
    "\n",
    "def non_daemon():\n",
    "    logging.debug( \"Starting\" )\n",
    "    time.sleep(1)\n",
    "    logging.debug( \"Exiting\" )\n",
    "\n",
    "d = threading.Thread(name='daemon', target=daemon)\n",
    "d.setDaemon(True)\n",
    "\n",
    "t = threading.Thread(name='non_daemon', target=non_daemon)\n",
    "\n",
    "d.start()\n",
    "t.start()\n",
    "\n",
    "d.join()\n",
    "t.join()"
   ]
  },
  {
   "cell_type": "code",
   "execution_count": 44,
   "metadata": {
    "collapsed": false
   },
   "outputs": [
    {
     "name": "stderr",
     "output_type": "stream",
     "text": [
      "[DEBUG] (Thread 0  ) sleeping 1\n",
      "[DEBUG] (Thread 1  ) sleeping 3\n",
      "[DEBUG] (Thread 2  ) sleeping 4\n",
      "[DEBUG] (MainThread) joining Thread-2\n",
      "[DEBUG] (Thread 0  ) ending\n",
      "[DEBUG] (Thread 1  ) ending\n",
      "[DEBUG] (Thread 2  ) ending\n"
     ]
    },
    {
     "ename": "KeyboardInterrupt",
     "evalue": "",
     "output_type": "error",
     "traceback": [
      "\u001b[0;31m---------------------------------------------------------------------------\u001b[0m",
      "\u001b[0;31mKeyboardInterrupt\u001b[0m                         Traceback (most recent call last)",
      "\u001b[0;32m<ipython-input-44-c7637ea43e18>\u001b[0m in \u001b[0;36m<module>\u001b[0;34m()\u001b[0m\n\u001b[1;32m     21\u001b[0m         \u001b[0;32mcontinue\u001b[0m\u001b[0;34m\u001b[0m\u001b[0m\n\u001b[1;32m     22\u001b[0m     \u001b[0mlogging\u001b[0m\u001b[0;34m.\u001b[0m\u001b[0mdebug\u001b[0m\u001b[0;34m(\u001b[0m \u001b[0;34m'joining %s'\u001b[0m\u001b[0;34m,\u001b[0m \u001b[0mt\u001b[0m\u001b[0;34m.\u001b[0m\u001b[0mgetName\u001b[0m\u001b[0;34m(\u001b[0m\u001b[0;34m)\u001b[0m \u001b[0;34m)\u001b[0m\u001b[0;34m\u001b[0m\u001b[0m\n\u001b[0;32m---> 23\u001b[0;31m     \u001b[0mt\u001b[0m\u001b[0;34m.\u001b[0m\u001b[0mjoin\u001b[0m\u001b[0;34m(\u001b[0m\u001b[0;34m)\u001b[0m\u001b[0;34m\u001b[0m\u001b[0m\n\u001b[0m",
      "\u001b[0;32m/Library/Frameworks/Python.framework/Versions/3.6/lib/python3.6/threading.py\u001b[0m in \u001b[0;36mjoin\u001b[0;34m(self, timeout)\u001b[0m\n\u001b[1;32m   1054\u001b[0m \u001b[0;34m\u001b[0m\u001b[0m\n\u001b[1;32m   1055\u001b[0m         \u001b[0;32mif\u001b[0m \u001b[0mtimeout\u001b[0m \u001b[0;32mis\u001b[0m \u001b[0;32mNone\u001b[0m\u001b[0;34m:\u001b[0m\u001b[0;34m\u001b[0m\u001b[0m\n\u001b[0;32m-> 1056\u001b[0;31m             \u001b[0mself\u001b[0m\u001b[0;34m.\u001b[0m\u001b[0m_wait_for_tstate_lock\u001b[0m\u001b[0;34m(\u001b[0m\u001b[0;34m)\u001b[0m\u001b[0;34m\u001b[0m\u001b[0m\n\u001b[0m\u001b[1;32m   1057\u001b[0m         \u001b[0;32melse\u001b[0m\u001b[0;34m:\u001b[0m\u001b[0;34m\u001b[0m\u001b[0m\n\u001b[1;32m   1058\u001b[0m             \u001b[0;31m# the behavior of a negative timeout isn't documented, but\u001b[0m\u001b[0;34m\u001b[0m\u001b[0;34m\u001b[0m\u001b[0m\n",
      "\u001b[0;32m/Library/Frameworks/Python.framework/Versions/3.6/lib/python3.6/threading.py\u001b[0m in \u001b[0;36m_wait_for_tstate_lock\u001b[0;34m(self, block, timeout)\u001b[0m\n\u001b[1;32m   1070\u001b[0m         \u001b[0;32mif\u001b[0m \u001b[0mlock\u001b[0m \u001b[0;32mis\u001b[0m \u001b[0;32mNone\u001b[0m\u001b[0;34m:\u001b[0m  \u001b[0;31m# already determined that the C code is done\u001b[0m\u001b[0;34m\u001b[0m\u001b[0m\n\u001b[1;32m   1071\u001b[0m             \u001b[0;32massert\u001b[0m \u001b[0mself\u001b[0m\u001b[0;34m.\u001b[0m\u001b[0m_is_stopped\u001b[0m\u001b[0;34m\u001b[0m\u001b[0m\n\u001b[0;32m-> 1072\u001b[0;31m         \u001b[0;32melif\u001b[0m \u001b[0mlock\u001b[0m\u001b[0;34m.\u001b[0m\u001b[0macquire\u001b[0m\u001b[0;34m(\u001b[0m\u001b[0mblock\u001b[0m\u001b[0;34m,\u001b[0m \u001b[0mtimeout\u001b[0m\u001b[0;34m)\u001b[0m\u001b[0;34m:\u001b[0m\u001b[0;34m\u001b[0m\u001b[0m\n\u001b[0m\u001b[1;32m   1073\u001b[0m             \u001b[0mlock\u001b[0m\u001b[0;34m.\u001b[0m\u001b[0mrelease\u001b[0m\u001b[0;34m(\u001b[0m\u001b[0;34m)\u001b[0m\u001b[0;34m\u001b[0m\u001b[0m\n\u001b[1;32m   1074\u001b[0m             \u001b[0mself\u001b[0m\u001b[0;34m.\u001b[0m\u001b[0m_stop\u001b[0m\u001b[0;34m(\u001b[0m\u001b[0;34m)\u001b[0m\u001b[0;34m\u001b[0m\u001b[0m\n",
      "\u001b[0;31mKeyboardInterrupt\u001b[0m: "
     ]
    }
   ],
   "source": [
    "logging.basicConfig(level=logging.DEBUG,\n",
    "                    format='(%(threadName)-10s) %(message)s',\n",
    "                    )\n",
    "\n",
    "def sleepDaemonThread():\n",
    "    pause = random.randint(1,5)\n",
    "    logging.debug( 'sleeping %s', pause )\n",
    "    time.sleep(pause)\n",
    "    logging.debug( 'ending' )\n",
    "    return\n",
    "\n",
    "for i in range(3):\n",
    "    t = threading.Thread(target=sleepDaemonThread, name=\"Thread \"+str(i))\n",
    "    t.setDaemon(True)\n",
    "    t.start()\n",
    "\n",
    "main_thread = threading.currentThread()\n",
    "\n",
    "for t in threading.enumerate():\n",
    "    if t is main_thread:\n",
    "        continue\n",
    "    logging.debug( 'joining %s', t.getName() )\n",
    "    t.join()"
   ]
  }
 ],
 "metadata": {
  "kernelspec": {
   "display_name": "Python 3",
   "language": "python",
   "name": "python3"
  },
  "language_info": {
   "codemirror_mode": {
    "name": "ipython",
    "version": 3
   },
   "file_extension": ".py",
   "mimetype": "text/x-python",
   "name": "python",
   "nbconvert_exporter": "python",
   "pygments_lexer": "ipython3",
   "version": "3.6.0"
  }
 },
 "nbformat": 4,
 "nbformat_minor": 2
}
