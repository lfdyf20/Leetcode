{
 "cells": [
  {
   "cell_type": "code",
   "execution_count": 1,
   "metadata": {
    "collapsed": true
   },
   "outputs": [],
   "source": [
    "import time"
   ]
  },
  {
   "cell_type": "code",
   "execution_count": 4,
   "metadata": {
    "collapsed": false
   },
   "outputs": [
    {
     "name": "stdout",
     "output_type": "stream",
     "text": [
      "start to run coun\n",
      "50005000\n",
      "running time for countNums is: 0.002321004867553711\n"
     ]
    }
   ],
   "source": [
    "def log(func):\n",
    "    def wrapper(*args, **kv):\n",
    "        start_time = time.time()\n",
    "        f = func(*args, **kv)\n",
    "        run_time = time.time()-start_time\n",
    "        print(\"running time for {func_name} is: {time}\".format(func_name=func.__name__, time=run_time))\n",
    "        return f\n",
    "    return wrapper\n",
    "\n",
    "n = 10000\n",
    "\n",
    "@log\n",
    "def countNums(n):\n",
    "    print( 'start to run counNums' )\n",
    "    res = 0\n",
    "    for i in range(1, n+1):\n",
    "        res += i\n",
    "    print(res)\n",
    "\n",
    "countNums(n)"
   ]
  },
  {
   "cell_type": "markdown",
   "metadata": {},
   "source": [
    "which is equal to:"
   ]
  },
  {
   "cell_type": "code",
   "execution_count": 9,
   "metadata": {
    "collapsed": false
   },
   "outputs": [
    {
     "name": "stdout",
     "output_type": "stream",
     "text": [
      "start to run coun\n",
      "50005000\n",
      "running time for countNums is: 0.0027587413787841797\n"
     ]
    }
   ],
   "source": [
    "def log(func):\n",
    "    def wrapper(*args, **kv):\n",
    "        start_time = time.time()\n",
    "        f = func(*args, **kv)\n",
    "        run_time = time.time()-start_time\n",
    "        print(\"running time for {func_name} is: {time}\".format(func_name=func.__name__, time=run_time))\n",
    "        return f\n",
    "    return wrapper\n",
    "\n",
    "n = 10000\n",
    "\n",
    "def countNums(n):\n",
    "    print( 'start to run counNums' )\n",
    "    res = 0\n",
    "    for i in range(1, n+1):\n",
    "        res += i\n",
    "    print(res)\n",
    "\n",
    "countNums = log( countNums )\n",
    "countNums(n)"
   ]
  },
  {
   "cell_type": "markdown",
   "metadata": {},
   "source": [
    "### What if we want to pass the parameters to the decorator?"
   ]
  },
  {
   "cell_type": "code",
   "execution_count": 12,
   "metadata": {
    "collapsed": false
   },
   "outputs": [
    {
     "name": "stdout",
     "output_type": "stream",
     "text": [
      "start to run countNums\n",
      "50005000\n",
      "[commit info: hello world] running time for countNums is: 0.002711057662963867\n"
     ]
    }
   ],
   "source": [
    "def log(text):\n",
    "    def decorator(func):\n",
    "        def wrapper(*args, **kv):\n",
    "            start_time = time.time()\n",
    "            f = func(*args, **kv)\n",
    "            run_time = time.time()-start_time\n",
    "            print(\"[commit info: {text}] running time for {func_name} is: {time}\".format(\n",
    "                text=text,func_name=func.__name__, time=run_time))\n",
    "            return f\n",
    "        return wrapper\n",
    "    return decorator\n",
    "\n",
    "n = 10000\n",
    "\n",
    "@log(\"hello world\")\n",
    "def countNums(n):\n",
    "    print( 'start to run countNums' )\n",
    "    res = 0\n",
    "    for i in range(1, n+1):\n",
    "        res += i\n",
    "    print(res)\n",
    "\n",
    "countNums(n)"
   ]
  },
  {
   "cell_type": "markdown",
   "metadata": {},
   "source": [
    "which is equal to:"
   ]
  },
  {
   "cell_type": "code",
   "execution_count": 14,
   "metadata": {
    "collapsed": false
   },
   "outputs": [
    {
     "name": "stdout",
     "output_type": "stream",
     "text": [
      "start to run countNums\n",
      "500500\n",
      "[commit info: ni hao ma] running time for countNums is: 0.00028586387634277344\n"
     ]
    }
   ],
   "source": [
    "def log(text):\n",
    "    def decorator(func):\n",
    "        def wrapper(*args, **kv):\n",
    "            start_time = time.time()\n",
    "            f = func(*args, **kv)\n",
    "            run_time = time.time()-start_time\n",
    "            print(\"[commit info: {text}] running time for {func_name} is: {time}\".format(\n",
    "                text=text,func_name=func.__name__, time=run_time))\n",
    "            return f\n",
    "        return wrapper\n",
    "    return decorator\n",
    "\n",
    "n = 10000\n",
    "\n",
    "def countNums(n):\n",
    "    print( 'start to run countNums' )\n",
    "    res = 0\n",
    "    for i in range(1, n+1):\n",
    "        res += i\n",
    "    print(res)\n",
    "\n",
    "countNums = log('ni hao ma')(countNums)\n",
    "countNums(1000)"
   ]
  },
  {
   "cell_type": "markdown",
   "metadata": {},
   "source": [
    "- This is because that `log( * )` return a function `wrapper`\n",
    "- so this is actually `countNums = wrapper(countNums)` with `wrapper` defined in `log`"
   ]
  }
 ],
 "metadata": {
  "kernelspec": {
   "display_name": "Python 3",
   "language": "python",
   "name": "python3"
  },
  "language_info": {
   "codemirror_mode": {
    "name": "ipython",
    "version": 3
   },
   "file_extension": ".py",
   "mimetype": "text/x-python",
   "name": "python",
   "nbconvert_exporter": "python",
   "pygments_lexer": "ipython3",
   "version": "3.6.0"
  }
 },
 "nbformat": 4,
 "nbformat_minor": 2
}
