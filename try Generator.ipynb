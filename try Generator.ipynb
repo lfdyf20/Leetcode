{
 "cells": [
  {
   "cell_type": "markdown",
   "metadata": {},
   "source": [
    "# Learning Generator in Python"
   ]
  },
  {
   "cell_type": "code",
   "execution_count": 2,
   "metadata": {
    "collapsed": false
   },
   "outputs": [
    {
     "name": "stdout",
     "output_type": "stream",
     "text": [
      "5\n",
      "4\n",
      "3\n",
      "2\n",
      "1\n"
     ]
    }
   ],
   "source": [
    "def countDown(n):\n",
    "    while n>0:\n",
    "        yield n\n",
    "        n -= 1\n",
    "\n",
    "for i in countDown(5):\n",
    "    print( i )"
   ]
  },
  {
   "cell_type": "code",
   "execution_count": 5,
   "metadata": {
    "collapsed": false
   },
   "outputs": [
    {
     "name": "stdout",
     "output_type": "stream",
     "text": [
      "<generator object countDown at 0x104697410>\n"
     ]
    }
   ],
   "source": [
    "def countDown(n):\n",
    "    print( \"counting down from {n}\".format(n=n) )\n",
    "    while n>0:\n",
    "        yield n\n",
    "        n -= 1\n",
    "\n",
    "x = countDown(10)\n",
    "print(x)"
   ]
  },
  {
   "cell_type": "code",
   "execution_count": 10,
   "metadata": {
    "collapsed": false
   },
   "outputs": [
    {
     "name": "stdout",
     "output_type": "stream",
     "text": [
      "counting down from 10\n",
      "10\n",
      "9\n",
      "8\n",
      "7\n",
      "6\n"
     ]
    }
   ],
   "source": [
    "def countDown(n):\n",
    "    print( \"counting down from {n}\".format(n=n) )\n",
    "    while n>0:\n",
    "        yield n\n",
    "        n -= 1\n",
    "\n",
    "x = countDown(10)\n",
    "for i in range(5):\n",
    "    print( next(x) )"
   ]
  },
  {
   "cell_type": "code",
   "execution_count": 21,
   "metadata": {
    "collapsed": false
   },
   "outputs": [
    {
     "name": "stdout",
     "output_type": "stream",
     "text": [
      "i recieved a\n",
      "i recieved b\n",
      "i recieved c\n"
     ]
    }
   ],
   "source": [
    "def generator():\n",
    "    while True:\n",
    "        x = yield\n",
    "        yield \"i recieved {x}\".format(x=x)\n",
    "    \n",
    "g = generator()\n",
    "for i in ['a','b','c']:\n",
    "    next(g)\n",
    "    print(g.send(i))"
   ]
  }
 ],
 "metadata": {
  "kernelspec": {
   "display_name": "Python 3",
   "language": "python",
   "name": "python3"
  },
  "language_info": {
   "codemirror_mode": {
    "name": "ipython",
    "version": 3
   },
   "file_extension": ".py",
   "mimetype": "text/x-python",
   "name": "python",
   "nbconvert_exporter": "python",
   "pygments_lexer": "ipython3",
   "version": "3.6.0"
  }
 },
 "nbformat": 4,
 "nbformat_minor": 2
}
